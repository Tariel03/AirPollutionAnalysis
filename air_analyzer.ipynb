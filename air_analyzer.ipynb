{
 "cells": [
  {
   "cell_type": "markdown",
   "metadata": {},
   "source": [
    "<h1>Курсовая работа (BIG DATA)<h1>"
   ]
  },
  {
   "cell_type": "markdown",
   "metadata": {},
   "source": [
    "<h2>Тема: Исследование по загрязнению воздуха в Кыргызской Республики</h2>"
   ]
  },
  {
   "cell_type": "markdown",
   "metadata": {},
   "source": [
    "<h3>Команда: ЭТЭ</h3>\n",
    "<h3>Жээнбеков Эрбол</h3>\n",
    "<h3>Акматов Тариэл</h3>\n",
    "<h3>Исмаилов Эмирхан</h3>"
   ]
  },
  {
   "cell_type": "markdown",
   "metadata": {},
   "source": [
    "# (1) Получение данных и перевод их в DataFrame для дальнейшей работы"
   ]
  },
  {
   "cell_type": "code",
   "execution_count": null,
   "metadata": {},
   "outputs": [],
   "source": [
    "import pandas as pd\n",
    "from datetime import datetime\n",
    "\n",
    "import predictions\n",
    "\n",
    "file_path = 'air_pollution_data_kyrgyzstan.xlsx'\n",
    "air_pollution = pd.read_excel(file_path)"
   ]
  },
  {
   "cell_type": "code",
   "execution_count": null,
   "metadata": {},
   "outputs": [],
   "source": [
    "air_pollution.info()"
   ]
  },
  {
   "cell_type": "code",
   "execution_count": null,
   "metadata": {},
   "outputs": [],
   "source": [
    "print(\"Ключи digits_dataset: \\n{}\".format(air_pollution.keys()))"
   ]
  },
  {
   "cell_type": "code",
   "execution_count": null,
   "metadata": {},
   "outputs": [],
   "source": [
    "air_pollution_sorted = air_pollution.sort_values(by='Дата')\n",
    "air_pollution_sorted.head()"
   ]
  },
  {
   "cell_type": "markdown",
   "metadata": {
    "ExecuteTime": {
     "start_time": "2023-12-20T04:07:30.978057Z"
    }
   },
   "source": [
    "## (2) Сохранение и сортировка данных по месяцам"
   ]
  },
  {
   "cell_type": "code",
   "execution_count": null,
   "metadata": {},
   "outputs": [],
   "source": [
    "air_pollution_sorted[\"Дата\"] = pd.to_datetime(air_pollution_sorted[\"Дата\"], format=\"%m/%d/%Y, %H:%M:%S\")\n",
    "air_pollution_sorted.head(10)"
   ]
  },
  {
   "cell_type": "code",
   "execution_count": null,
   "metadata": {},
   "outputs": [],
   "source": [
    "monthly_air_pollution_a_cleaneds = {group['Дата'].dt.strftime('%B').iloc[0]: group for _, group in air_pollution_sorted.groupby(air_pollution_sorted['Дата'].dt.month)}"
   ]
  },
  {
   "cell_type": "markdown",
   "metadata": {},
   "source": [
    "<h4>Я сделал именно такое сохранение так, как в случае сохранения даты в виде строки, отображение в excel происходит в виде \"2022-01-31\", но сам тип поля \"Дата\" становится object</h4>"
   ]
  },
  {
   "cell_type": "code",
   "execution_count": null,
   "metadata": {},
   "outputs": [],
   "source": [
    "for month_name, group in monthly_air_pollution_a_cleaneds.items():\n",
    "    file_name_month = f\"air_pollution_data_kyrgyzstan_{month_name.lower()}.xlsx\"\n",
    "    group[\"Дата\"] = pd.to_datetime(group[\"Дата\"], format=\"%Y-%m-%d\")\n",
    "    group.to_excel(file_name_month, index=False)"
   ]
  },
  {
   "cell_type": "markdown",
   "metadata": {
    "ExecuteTime": {
     "start_time": "2023-12-20T04:07:30.984792Z"
    }
   },
   "source": [
    "<h4>Вот здесь ниже я привожу пример одной из таблиц для того чтобы наглядно показать сохранение данных в виде даты</h4>"
   ]
  },
  {
   "cell_type": "code",
   "execution_count": null,
   "metadata": {},
   "outputs": [],
   "source": [
    "april_path = 'air_pollution_data_kyrgyzstan_april.xlsx'\n",
    "april_air = pd.read_excel(april_path)\n",
    "april_air.head() "
   ]
  },
  {
   "cell_type": "code",
   "execution_count": null,
   "metadata": {},
   "outputs": [],
   "source": [
    "april_air[\"Дата\"] = pd.to_datetime(april_air[\"Дата\"], format=\"%Y-%m-%d\")\n",
    "april_air.info()"
   ]
  },
  {
   "cell_type": "markdown",
   "metadata": {},
   "source": [
    "## Сохранение и сортировка данных по городам"
   ]
  },
  {
   "cell_type": "code",
   "execution_count": null,
   "metadata": {},
   "outputs": [],
   "source": [
    "grouped_by_city = air_pollution_sorted.groupby('Город')"
   ]
  },
  {
   "cell_type": "code",
   "execution_count": null,
   "metadata": {},
   "outputs": [],
   "source": [
    "for city, group in grouped_by_city:\n",
    "    if city == 'Бишкек':\n",
    "        city = 'Bishkek'\n",
    "    if city == 'Ош':\n",
    "        city = 'Osh'\n",
    "    if city == 'Джалал-Абад':\n",
    "        city = 'Djalal-abad'\n",
    "    if city == 'Каракол':\n",
    "        city = 'Karakol'\n",
    "    if city == 'Талас':\n",
    "        city = 'Talas'\n",
    "    file_name_city = f\"air_pollution_data_kyrgyzstan_{city.lower()}.xlsx\"\n",
    "    group.to_excel(file_name_city, index=False)"
   ]
  },
  {
   "cell_type": "code",
   "execution_count": null,
   "outputs": [],
   "source": [
    "talas_path = 'air_pollution_data_kyrgyzstan_talas.xlsx'\n",
    "talas_air = pd.read_excel(talas_path)\n",
    "talas_air.head() "
   ],
   "metadata": {
    "collapsed": false
   }
  },
  {
   "cell_type": "code",
   "execution_count": null,
   "outputs": [],
   "source": [
    "talas_air[\"Дата\"] = pd.to_datetime(talas_air[\"Дата\"], format=\"%Y-%m-%d\")\n",
    "talas_air.info()"
   ],
   "metadata": {
    "collapsed": false
   }
  },
  {
   "cell_type": "code",
   "execution_count": null,
   "outputs": [],
   "source": [
    "air_pollution_sorted.info()"
   ],
   "metadata": {
    "collapsed": false
   }
  },
  {
   "cell_type": "code",
   "execution_count": null,
   "outputs": [],
   "source": [
    "# Обработка пустых значений\n",
    "air_pollution_cleaned = air_pollution_sorted.ffill()  # Заполнение пропущенных значений предыдущими значениями\n",
    "# Удаление дубликатов \n",
    "air_pollution_cleaned = air_pollution_cleaned.drop_duplicates()\n",
    "\n",
    "print(air_pollution_cleaned.info())\n"
   ],
   "metadata": {
    "collapsed": false
   }
  },
  {
   "cell_type": "code",
   "execution_count": null,
   "outputs": [],
   "source": [
    "air_pollution_cleaned.tail()"
   ],
   "metadata": {
    "collapsed": false
   }
  },
  {
   "cell_type": "code",
   "execution_count": null,
   "outputs": [],
   "source": [
    "air_pollution_cleaned['PM10'] = pd.to_numeric(air_pollution_cleaned['PM10'], errors='coerce')\n",
    "print(air_pollution_cleaned['PM10'])\n",
    "print(air_pollution_cleaned['PM10'].dtype)"
   ],
   "metadata": {
    "collapsed": false
   }
  },
  {
   "cell_type": "code",
   "execution_count": null,
   "outputs": [],
   "source": [
    "air_pollution_cleaned.dropna()['PM10'].tail(10)"
   ],
   "metadata": {
    "collapsed": false
   }
  },
  {
   "cell_type": "code",
   "execution_count": null,
   "outputs": [],
   "source": [
    "\n",
    "# Предполагая, что ваш DataFrame назван 'air_pollution_cleaned'\n",
    "# Замените 'air_pollution_cleaned' на фактическое имя вашего DataFrame, если оно отличается\n",
    "\n",
    "# Выберите столбцы типа float\n",
    "float_columns = air_pollution_cleaned.select_dtypes(include=['float64']).columns\n",
    "\n",
    "# Проверьте каждый столбец float на наличие значений, не являющихся float\n",
    "for column in float_columns:\n",
    "    non_float_values = air_pollution_cleaned[~air_pollution_cleaned[column].apply(lambda x: isinstance(x, (int, float)))][column]\n",
    "    \n",
    "    if not non_float_values.empty:\n",
    "        print(f\"Столбец '{column}' содержит значения, не являющиеся типом float:\")\n",
    "        print(non_float_values)\n",
    "        print(\"\\n\")\n",
    "    else:\n",
    "        print(f\"Столбец '{column}' содержит только значения типа float.\\n\")\n"
   ],
   "metadata": {
    "collapsed": false
   }
  },
  {
   "cell_type": "code",
   "execution_count": null,
   "outputs": [],
   "source": [
    "air_pollution_cleaned.info()\n",
    "air_pollution_cleaned.set_index('Дата', inplace=True)\n"
   ],
   "metadata": {
    "collapsed": false
   }
  },
  {
   "cell_type": "code",
   "execution_count": null,
   "outputs": [],
   "source": [
    "import matplotlib.pyplot as plt\n",
    "\n",
    "plt.figure(figsize=(10, 18))  # Adjust the figure size as needed\n",
    "std_values = air_pollution_cleaned['PM2.5'].rolling(window=10).std()\n",
    "mean_values = air_pollution_cleaned['PM2.5'].rolling(window=10).mean()\n",
    "# Plot for Уровень SO2\n",
    "plt.subplot(3, 1, 1)\n",
    "plt.plot(air_pollution_cleaned.index,air_pollution_cleaned['PM2.5'], marker='o', linestyle='-', color='orange')\n",
    "plt.title('Изменение уровня PM2.5 во времени')\n",
    "plt.xlabel('Дата')\n",
    "plt.ylabel('Уровень PM2.5')\n",
    "plt.grid(True)\n",
    "\n",
    "# Plot for Стандартное отклонение\n",
    "plt.subplot(3, 1, 2)\n",
    "plt.plot(air_pollution_cleaned.index, std_values, linestyle='--', color='red')\n",
    "plt.title('Изменение стандартного отклонения PM2.5 во времени')\n",
    "plt.xlabel('Дата')\n",
    "plt.ylabel('Стандартное отклонение PM2.5')\n",
    "plt.grid(True)\n",
    "\n",
    "# Plot for Среднее значение\n",
    "plt.subplot(3, 1, 3)\n",
    "plt.plot(air_pollution_cleaned.index, mean_values, linestyle='--', color='blue')\n",
    "plt.title('Изменение среднего значения PM2.5 во времени')\n",
    "plt.xlabel('Дата')\n",
    "plt.ylabel('Среднее значение PM2.5')\n",
    "plt.grid(True)\n",
    "\n",
    "plt.tight_layout()  # Adjust layout for better spacing\n",
    "plt.show()\n"
   ],
   "metadata": {
    "collapsed": false
   }
  },
  {
   "cell_type": "code",
   "execution_count": null,
   "outputs": [],
   "source": [
    "import matplotlib.pyplot as plt\n",
    "\n",
    "plt.figure(figsize=(10, 18))  # Adjust the figure size as needed\n",
    "std_values = air_pollution_cleaned['SO2'].rolling(window=10).std()\n",
    "mean_values = air_pollution_cleaned['SO2'].rolling(window=10).mean()\n",
    "# Plot for Уровень SO2\n",
    "plt.subplot(3, 1, 1)\n",
    "plt.plot(air_pollution_cleaned.index,air_pollution_cleaned['SO2'], marker='o', linestyle='-', color='orange')\n",
    "plt.title('Изменение уровня SO2 во времени')\n",
    "plt.xlabel('Дата')\n",
    "plt.ylabel('Уровень SO2')\n",
    "plt.gca().set_facecolor('white')\n",
    "plt.grid(True)\n",
    "\n",
    "# Plot for Стандартное отклонение\n",
    "plt.subplot(3, 1, 2)\n",
    "plt.plot(air_pollution_cleaned.index, std_values, linestyle='--', color='red')\n",
    "plt.title('Изменение стандартного отклонения SO2 во времени')\n",
    "plt.xlabel('Дата')\n",
    "plt.ylabel('Стандартное отклонение SO2')\n",
    "plt.gca().set_facecolor('white')\n",
    "plt.grid(True)\n",
    "\n",
    "# Plot for Среднее значение\n",
    "plt.subplot(3, 1, 3)\n",
    "plt.plot(air_pollution_cleaned.index, mean_values, linestyle='--', color='blue')\n",
    "plt.title('Изменение среднего значения SO2 во времени')\n",
    "plt.xlabel('Дата')\n",
    "plt.ylabel('Среднее значение SO2')\n",
    "plt.gca().set_facecolor('white')\n",
    "plt.grid(True)\n",
    "\n",
    "plt.tight_layout()  # Adjust layout for better spacing\n",
    "plt.show()\n"
   ],
   "metadata": {
    "collapsed": false
   }
  },
  {
   "cell_type": "code",
   "execution_count": null,
   "outputs": [],
   "source": [
    "import matplotlib.pyplot as plt\n",
    "\n",
    "plt.figure(figsize=(10, 18))  # Adjust the figure size as needed\n",
    "std_values = air_pollution_cleaned['PM10'].rolling(window=10).std()\n",
    "mean_values = air_pollution_cleaned['PM10'].rolling(window=10).mean()\n",
    "# Plot for Уровень SO2\n",
    "plt.subplot(3, 1, 1)\n",
    "plt.plot(air_pollution_cleaned.index,air_pollution_cleaned['PM10'], marker='o', linestyle='-', color='orange')\n",
    "plt.title('Изменение уровня PM10 во времени')\n",
    "plt.xlabel('Дата')\n",
    "plt.ylabel('Уровень PM10')\n",
    "plt.gca().set_facecolor('white')\n",
    "plt.grid(True)\n",
    "\n",
    "# Plot for Стандартное отклонение\n",
    "plt.subplot(3, 1, 2)\n",
    "plt.plot(air_pollution_cleaned.index, std_values, linestyle='--', color='red')\n",
    "plt.title('Изменение стандартного отклонения PM10 во времени')\n",
    "plt.xlabel('Дата')\n",
    "plt.ylabel('Стандартное отклонение PM10')\n",
    "plt.gca().set_facecolor('white')\n",
    "plt.grid(True)\n",
    "\n",
    "# Plot for Среднее значение\n",
    "plt.subplot(3, 1, 3)\n",
    "plt.plot(air_pollution_cleaned.index, mean_values, linestyle='--', color='blue')\n",
    "plt.title('Изменение среднего значения PM10 во времени')\n",
    "plt.xlabel('Дата')\n",
    "plt.ylabel('Среднее значение PM10')\n",
    "plt.gca().set_facecolor('white')\n",
    "plt.grid(True)\n",
    "\n",
    "plt.tight_layout()  # Adjust layout for better spacing\n",
    "plt.show()\n"
   ],
   "metadata": {
    "collapsed": false
   }
  },
  {
   "cell_type": "markdown",
   "source": [
    "<h3>Давайте возьмем Бишкек для примера!</h3>"
   ],
   "metadata": {
    "collapsed": false
   }
  },
  {
   "cell_type": "code",
   "execution_count": null,
   "outputs": [],
   "source": [
    "bishkek_path = 'air_pollution_data_kyrgyzstan_bishkek.xlsx'\n",
    "bishkek_air = pd.read_excel(bishkek_path)\n",
    "bishkek_air.head() "
   ],
   "metadata": {
    "collapsed": false
   }
  },
  {
   "cell_type": "code",
   "execution_count": null,
   "outputs": [],
   "source": [
    "bishkek_air.info()\n",
    "bishkek_air.set_index('Дата', inplace=True)"
   ],
   "metadata": {
    "collapsed": false
   }
  },
  {
   "cell_type": "code",
   "execution_count": null,
   "outputs": [],
   "source": [
    "import matplotlib.pyplot as plt\n",
    "\n",
    "plt.figure(figsize=(10, 18))  # Adjust the figure size as needed\n",
    "std_values = bishkek_air['SO2'].rolling(window=10).std()\n",
    "mean_values = bishkek_air['SO2'].rolling(window=10).mean()\n",
    "# Plot for Уровень SO2\n",
    "plt.subplot(3, 1, 1)\n",
    "plt.plot(bishkek_air.index, bishkek_air['SO2'], marker='o', linestyle='-', color='orange')\n",
    "plt.title('Изменение уровня SO2 во времени')\n",
    "plt.xlabel('Дата')\n",
    "plt.ylabel('Уровень SO2')\n",
    "plt.grid(True)\n",
    "\n",
    "# Plot for Стандартное отклонение\n",
    "plt.subplot(3, 1, 2)\n",
    "plt.plot(bishkek_air.index, std_values, linestyle='--', color='red')\n",
    "plt.title('Изменение стандартного отклонения SO2 во времени')\n",
    "plt.xlabel('Дата')\n",
    "plt.ylabel('Стандартное отклонение SO2')\n",
    "plt.grid(True)\n",
    "\n",
    "# Plot for Среднее значение\n",
    "plt.subplot(3, 1, 3)\n",
    "plt.plot(bishkek_air.index, mean_values, linestyle='--', color='blue')\n",
    "plt.title('Изменение среднего значения SO2 во времени')\n",
    "plt.xlabel('Дата')\n",
    "plt.ylabel('Среднее значение SO2')\n",
    "plt.grid(True)\n",
    "\n",
    "plt.tight_layout()  # Adjust layout for better spacing\n",
    "plt.show()\n"
   ],
   "metadata": {
    "collapsed": false
   }
  },
  {
   "cell_type": "code",
   "execution_count": null,
   "outputs": [],
   "source": [
    "\n",
    "# Assuming 'Дата' column is datetime type\n",
    "bishkek_air.info()"
   ],
   "metadata": {
    "collapsed": false
   }
  },
  {
   "cell_type": "code",
   "execution_count": null,
   "outputs": [],
   "source": [
    "import matplotlib.pyplot as plt\n",
    "import pandas as pd\n",
    "import calendar\n",
    "\n",
    "# Assuming 'Дата' column is datetime type\n",
    "bishkek_air['Month'] = bishkek_air.index.month\n",
    "\n",
    "# Map month numbers to short month names\n",
    "month_names = [calendar.month_abbr[i] for i in range(1, 13)]\n",
    "bishkek_air['Month'] = bishkek_air['Month'].map({i: month_names[i-1] for i in range(1, 13)})\n",
    "\n",
    "# Group by month and calculate the mean, then sort by month order\n",
    "monthly_mean = bishkek_air.groupby('Month')['SO2'].mean().reindex(month_names)\n",
    "\n",
    "# Plotting the bar graph\n",
    "plt.figure(figsize=(10, 6))\n",
    "monthly_mean.plot(kind='bar', color='green', alpha=0.7)\n",
    "plt.title('Средний уровень SO2 по месяцам (отсортировано)')\n",
    "plt.xlabel('Месяц')\n",
    "plt.ylabel('Средний уровень SO2')\n",
    "plt.xticks(rotation=0)  # Rotate x-axis labels for better readability\n",
    "plt.grid(axis='y', linestyle='--', alpha=0.7)\n",
    "\n",
    "plt.show()\n"
   ],
   "metadata": {
    "collapsed": false
   }
  },
  {
   "cell_type": "code",
   "execution_count": null,
   "outputs": [],
   "source": [
    "import matplotlib.pyplot as plt\n",
    "import calendar\n",
    "\n",
    "# Assuming 'Дата' column is datetime type\n",
    "bishkek_air['Month'] = bishkek_air.index.month\n",
    "\n",
    "# Map month numbers to short month names\n",
    "month_names = [calendar.month_abbr[i] for i in range(1, 13)]\n",
    "bishkek_air['Month'] = bishkek_air['Month'].map({i: month_names[i-1] for i in range(1, 13)})\n",
    "\n",
    "# Group by month and calculate the mean, then sort by month order\n",
    "monthly_mean = bishkek_air.groupby('Month')['PM2.5'].mean().reindex(month_names)\n",
    "\n",
    "# Plotting the bar graph\n",
    "plt.figure(figsize=(10, 6))\n",
    "monthly_mean.plot(kind='bar', color='green', alpha=0.7)\n",
    "plt.title('Средний уровень PM2.5 по месяцам (отсортировано)')\n",
    "plt.xlabel('Месяц')\n",
    "plt.ylabel('Средний уровень PM2.5')\n",
    "plt.xticks(rotation=0)  # Rotate x-axis labels for better readability\n",
    "plt.grid(axis='y', linestyle='--', alpha=0.7)\n",
    "\n",
    "plt.show()\n"
   ],
   "metadata": {
    "collapsed": false
   }
  },
  {
   "cell_type": "code",
   "execution_count": null,
   "outputs": [],
   "source": [
    "import matplotlib.pyplot as plt\n",
    "import pandas as pd\n",
    "import calendar\n",
    "\n",
    "# Assuming 'Дата' column is datetime type\n",
    "bishkek_air['Month'] = bishkek_air.index.month\n",
    "\n",
    "# Map month numbers to short month names\n",
    "month_names = [calendar.month_abbr[i] for i in range(1, 13)]\n",
    "bishkek_air['Month'] = bishkek_air['Month'].map({i: month_names[i-1] for i in range(1, 13)})\n",
    "\n",
    "# Group by month and calculate the mean, then sort by month order\n",
    "monthly_mean = bishkek_air.groupby('Month')['PM10'].mean().reindex(month_names)\n",
    "\n",
    "# Plotting the bar graph\n",
    "plt.figure(figsize=(10, 6))\n",
    "monthly_mean.plot(kind='bar', color='green', alpha=0.7)\n",
    "plt.title('Средний уровень PM10 по месяцам (отсортировано)')\n",
    "plt.xlabel('Месяц')\n",
    "plt.ylabel('Средний уровень PM10')\n",
    "plt.xticks(rotation=0)  # Rotate x-axis labels for better readability\n",
    "plt.grid(axis='y', linestyle='--', alpha=0.7)\n",
    "\n",
    "plt.show()\n"
   ],
   "metadata": {
    "collapsed": false
   }
  },
  {
   "cell_type": "markdown",
   "source": [
    "Средние показатели SO2, PM2.5 и PM10 по городам"
   ],
   "metadata": {
    "collapsed": false
   }
  },
  {
   "cell_type": "code",
   "execution_count": null,
   "outputs": [],
   "source": [
    "import matplotlib.pyplot as plt\n",
    "import pandas as pd\n",
    "import calendar\n",
    "\n",
    "# Assuming 'Дата' column is datetime type\n",
    "air_pollution_cleaned['Month'] = air_pollution_cleaned.index.month\n",
    "\n",
    "# Map month numbers to short month names\n",
    "month_names = [calendar.month_abbr[i] for i in range(1, 13)]\n",
    "air_pollution_cleaned['Month'] = air_pollution_cleaned['Month'].map({i: month_names[i-1] for i in range(1, 13)})\n",
    "\n",
    "# Group by city and calculate the mean 'PM10' for each city\n",
    "city_mean_pm10 = air_pollution_cleaned.groupby('Город')['PM10'].mean().sort_values()\n",
    "\n",
    "# Plotting the bar graph\n",
    "plt.figure(figsize=(12, 8))\n",
    "city_mean_pm10.plot(kind='barh', color='blue', alpha=0.7)\n",
    "plt.title('Средний уровень PM10 по городам')\n",
    "plt.xlabel('Средний уровень PM10')\n",
    "plt.yticks(range(len(city_mean_pm10)), city_mean_pm10.index)  # Set y-axis ticks to city names\n",
    "plt.grid(axis='x', linestyle='--', alpha=0.7)\n",
    "\n",
    "plt.show()\n"
   ],
   "metadata": {
    "collapsed": false
   }
  },
  {
   "cell_type": "code",
   "execution_count": null,
   "outputs": [],
   "source": [
    "import matplotlib.pyplot as plt\n",
    "import pandas as pd\n",
    "import calendar\n",
    "\n",
    "# Assuming 'Дата' column is datetime type\n",
    "air_pollution_cleaned['Month'] = air_pollution_cleaned.index.month\n",
    "\n",
    "# Map month numbers to short month names\n",
    "month_names = [calendar.month_abbr[i] for i in range(1, 13)]\n",
    "air_pollution_cleaned['Month'] = air_pollution_cleaned['Month'].map({i: month_names[i-1] for i in range(1, 13)})\n",
    "\n",
    "# Group by city and calculate the mean 'PM10' for each city\n",
    "city_mean_pm10 = air_pollution_cleaned.groupby('Город')['SO2'].mean().sort_values()\n",
    "\n",
    "# Plotting the bar graph\n",
    "plt.figure(figsize=(12, 8))\n",
    "city_mean_pm10.plot(kind='barh', color='blue', alpha=0.7)\n",
    "plt.title('Средний уровень SO2 по городам')\n",
    "plt.xlabel('Средний уровень SO2')\n",
    "plt.yticks(range(len(city_mean_pm10)), city_mean_pm10.index)  # Set y-axis ticks to city names\n",
    "plt.grid(axis='x', linestyle='--', alpha=0.7)\n",
    "\n",
    "plt.show()\n"
   ],
   "metadata": {
    "collapsed": false
   }
  },
  {
   "cell_type": "code",
   "execution_count": null,
   "outputs": [],
   "source": [
    "import matplotlib.pyplot as plt\n",
    "import pandas as pd\n",
    "import calendar\n",
    "\n",
    "# Assuming 'Дата' column is datetime type\n",
    "air_pollution_cleaned['Month'] = air_pollution_cleaned.index.month\n",
    "\n",
    "# Map month numbers to short month names\n",
    "month_names = [calendar.month_abbr[i] for i in range(1, 13)]\n",
    "air_pollution_cleaned['Month'] = air_pollution_cleaned['Month'].map({i: month_names[i-1] for i in range(1, 13)})\n",
    "\n",
    "# Group by city and calculate the mean 'PM10' for each city\n",
    "city_mean_pm10 = air_pollution_cleaned.groupby('Город')['PM2.5'].mean().sort_values()\n",
    "\n",
    "# Plotting the bar graph\n",
    "plt.figure(figsize=(12, 8))\n",
    "city_mean_pm10.plot(kind='barh', color='blue', alpha=0.7)\n",
    "plt.title('Средний уровень PM2.5 по городам')\n",
    "plt.xlabel('Средний уровень PM2.5')\n",
    "plt.yticks(range(len(city_mean_pm10)), city_mean_pm10.index)  # Set y-axis ticks to city names\n",
    "plt.grid(axis='x', linestyle='--', alpha=0.7)\n",
    "\n",
    "plt.show()\n"
   ],
   "metadata": {
    "collapsed": false
   }
  },
  {
   "cell_type": "code",
   "execution_count": null,
   "outputs": [],
   "source": [
    "import matplotlib.pyplot as plt\n",
    "import calendar\n",
    "\n",
    "# Assuming 'Дата' column is datetime type\n",
    "air_pollution_cleaned['Month'] = air_pollution_cleaned.index.month\n",
    "\n",
    "# Map month numbers to short month names\n",
    "month_names = [calendar.month_abbr[i] for i in range(1, 13)]\n",
    "air_pollution_cleaned['Month'] = air_pollution_cleaned['Month'].map({i: month_names[i-1] for i in range(1, 13)})\n",
    "\n",
    "# Filter data for winter months (December, January, February)\n",
    "winter_data = air_pollution_cleaned[air_pollution_cleaned['Month'].isin(['Dec', 'Jan', 'Feb'])]\n",
    "\n",
    "# Group by city and calculate the mean 'PM10' for each city\n",
    "city_mean_pm10_winter = winter_data.groupby('Город')['PM10'].mean().sort_values()\n",
    "\n",
    "# Plotting the bar graph for winter months\n",
    "plt.figure(figsize=(12, 8))\n",
    "city_mean_pm10_winter.plot(kind='barh', color='blue', alpha=0.7)\n",
    "plt.title('Средний уровень PM10 по городам (зимние месяцы)')\n",
    "plt.xlabel('Средний уровень PM10')\n",
    "plt.ylabel('Город')\n",
    "plt.grid(axis='x', linestyle='--', alpha=0.7)\n",
    "\n",
    "plt.show()\n"
   ],
   "metadata": {
    "collapsed": false
   }
  },
  {
   "cell_type": "code",
   "execution_count": null,
   "outputs": [],
   "source": [
    "import matplotlib.pyplot as plt\n",
    "import calendar\n",
    "\n",
    "# Assuming 'Дата' column is datetime type\n",
    "air_pollution_cleaned['Month'] = air_pollution_cleaned.index.month\n",
    "\n",
    "# Map month numbers to short month names\n",
    "month_names = [calendar.month_abbr[i] for i in range(1, 13)]\n",
    "air_pollution_cleaned['Month'] = air_pollution_cleaned['Month'].map({i: month_names[i-1] for i in range(1, 13)})\n",
    "\n",
    "# Filter data for winter months (December, January, February)\n",
    "winter_data = air_pollution_cleaned[air_pollution_cleaned['Month'].isin(['Dec', 'Jan', 'Feb'])]\n",
    "\n",
    "# Group by city and calculate the mean 'PM10' for each city\n",
    "city_mean_pm10_winter = winter_data.groupby('Город')['PM2.5'].mean().sort_values()\n",
    "\n",
    "# Plotting the bar graph for winter months\n",
    "plt.figure(figsize=(12, 8))\n",
    "city_mean_pm10_winter.plot(kind='barh', color='blue', alpha=0.7)\n",
    "plt.title('Средний уровень PM2.5 по городам (зимние месяцы)')\n",
    "plt.xlabel('Средний уровень PM2.5')\n",
    "plt.ylabel('Город')\n",
    "plt.grid(axis='x', linestyle='--', alpha=0.7)\n",
    "\n",
    "plt.show()\n"
   ],
   "metadata": {
    "collapsed": false
   }
  },
  {
   "cell_type": "code",
   "execution_count": null,
   "outputs": [],
   "source": [
    "import matplotlib.pyplot as plt\n",
    "import calendar\n",
    "\n",
    "air_pollution_cleaned['Month'] = air_pollution_cleaned.index.month\n",
    "\n",
    "# Map month numbers to short month names\n",
    "month_names = [calendar.month_abbr[i] for i in range(1, 13)]\n",
    "air_pollution_cleaned['Month'] = air_pollution_cleaned['Month'].map({i: month_names[i-1] for i in range(1, 13)})\n",
    "\n",
    "# Filter data for winter months (December, January, February)\n",
    "winter_data = air_pollution_cleaned[air_pollution_cleaned['Month'].isin(['Dec', 'Jan', 'Feb'])]\n",
    "\n",
    "# Group by city and calculate the mean 'PM10' for each city\n",
    "city_mean_pm10_winter = winter_data.groupby('Город')['SO2'].mean().sort_values()\n",
    "\n",
    "# Plotting the bar graph for winter months\n",
    "plt.figure(figsize=(12, 8))\n",
    "city_mean_pm10_winter.plot(kind='barh', color='blue', alpha=0.7)\n",
    "plt.title('Средний уровень SO2 по городам (зимние месяцы)')\n",
    "plt.xlabel('Средний уровень SO2')\n",
    "plt.ylabel('Город')\n",
    "plt.grid(axis='x', linestyle='--', alpha=0.7)\n",
    "\n",
    "plt.show()\n"
   ],
   "metadata": {
    "collapsed": false
   }
  },
  {
   "cell_type": "markdown",
   "source": [
    "<h4>Вычисление коэффициентов корреляции:</h4>\n",
    "\n",
    "<p>В данном контексте проводится расчет коэффициента корреляции Пирсона для оценки степени линейной взаимосвязи между парами переменных. Этот коэффициент позволяет определить, насколько две переменные изменяются вместе, следуя линейному тренду.</p>\n",
    "\n",
    "<h4>Визуализация корреляций:</h4>\n",
    "\n",
    "<p>Для наглядного представления взаимосвязей между различными параметрами используется построение тепловой карты корреляций. Такая визуализация позволяет легко определить, есть ли положительная или отрицательная корреляция между парами переменных, и предоставляет общий обзор структуры взаимосвязей в данных.</p>"
   ],
   "metadata": {
    "collapsed": false
   }
  },
  {
   "cell_type": "code",
   "execution_count": null,
   "outputs": [],
   "source": [
    "air_pollution_cleaned.info()"
   ],
   "metadata": {
    "collapsed": false
   }
  },
  {
   "cell_type": "code",
   "execution_count": null,
   "outputs": [],
   "source": [
    "import seaborn as sns\n",
    "import matplotlib.pyplot as plt\n",
    "\n",
    "# Assuming 'Город', 'Демография', 'Здоровье населения', 'Экономические показатели', and 'Month' are categorical columns\n",
    "categorical_columns = [\n",
    "    \"Город\",\n",
    "    \"Демография\",\n",
    "    \"Здоровье населения\",\n",
    "    \"Экономические показатели\",\n",
    "    \"Month\",\n",
    "]\n",
    "air_pollution_encoded = pd.get_dummies(air_pollution_cleaned, columns=categorical_columns)\n",
    "\n",
    "# Calculate the correlation matrix\n",
    "correlation_matrix = air_pollution_encoded.corr(method=\"pearson\")\n",
    "\n",
    "# Increase figure size and adjust layout\n",
    "plt.figure(figsize=(20, 15))  # Adjust width and height to your preference\n",
    "\n",
    "# Customize colormap and annotations\n",
    "cmap = sns.diverging_palette(220, 20, as_cmap=True)\n",
    "fmt = \".2f\"  # Display correlation values with 2 decimal places\n",
    "annot_kws = {\"size\": 10}  # Adjust annotation font size if needed\n",
    "\n",
    "# Generate the heatmap with improved aesthetics\n",
    "sns.heatmap(\n",
    "    correlation_matrix,\n",
    "    annot=True,\n",
    "    cmap=cmap,\n",
    "    fmt=fmt,\n",
    "    linewidths=0.5,\n",
    "    cbar_kws={\"shrink\": 0.8},  # Adjust colorbar size\n",
    "    annot_kws=annot_kws,\n",
    ")\n",
    "\n",
    "# Title and axis labels\n",
    "plt.title(\"Матрица корреляции\", fontsize=24)  # Adjust title font size\n",
    "plt.xticks(rotation=45, ha=\"right\", fontsize=12)  # Rotate and style x-axis labels\n",
    "plt.yticks(rotation=0, fontsize=12)  # Style y-axis labels\n",
    "\n",
    "# Show the plot\n",
    "plt.tight_layout()  # Improve overall layout\n",
    "plt.show()\n"
   ],
   "metadata": {
    "collapsed": false
   }
  },
  {
   "cell_type": "markdown",
   "source": [
    "<h4>Выделение зависимых переменных:<h4>\n",
    "\n",
    "Зависимая переменная: Уровень загрязнения воздуха (PM2.5, PM10, SO2). Это переменная, которую мы хотим предсказать в нашей модели.\n",
    "Выбор независимых переменных:\n",
    "\n",
    "Независимые переменные (факторы), которые могут влиять на уровень загрязнения воздуха. Некоторые из них:\n",
    "Демографические показатели.\n",
    "Экономические показатели.\n",
    "Здоровье населения."
   ],
   "metadata": {
    "collapsed": false
   }
  },
  {
   "cell_type": "code",
   "execution_count": null,
   "outputs": [],
   "source": [
    "from sklearn.model_selection import train_test_split\n",
    "from sklearn.linear_model import LinearRegression\n",
    "from sklearn.metrics import mean_squared_error, r2_score\n",
    "\n",
    "categorical_columns = ['Город', 'Демография', 'Здоровье населения', 'Экономические показатели', 'Month']\n",
    "\n",
    "float_columns = ['PM2.5', 'PM10', 'SO2']"
   ],
   "metadata": {
    "collapsed": false
   }
  },
  {
   "cell_type": "code",
   "execution_count": 213,
   "outputs": [],
   "source": [
    "X = air_pollution_cleaned[float_columns]\n",
    "y = air_pollution_cleaned[categorical_columns]\n",
    "X_train, X_test, y_train, y_test = train_test_split(X, y, random_state=0)"
   ],
   "metadata": {
    "collapsed": false,
    "ExecuteTime": {
     "end_time": "2023-12-20T17:02:54.153671Z",
     "start_time": "2023-12-20T17:02:54.117800Z"
    }
   }
  },
  {
   "cell_type": "code",
   "execution_count": 216,
   "outputs": [
    {
     "name": "stdout",
     "output_type": "stream",
     "text": [
      "Форма массива X_train: (45, 3)\n",
      "Форма массива y_train: (45, 5)\n"
     ]
    }
   ],
   "source": [
    "print(\"Форма массива X_train: {}\".format(X_train.shape))\n",
    "print(\"Форма массива y_train: {}\".format(y_train.shape))"
   ],
   "metadata": {
    "collapsed": false,
    "ExecuteTime": {
     "end_time": "2023-12-20T17:04:04.382124Z",
     "start_time": "2023-12-20T17:04:04.350768Z"
    }
   }
  },
  {
   "cell_type": "code",
   "execution_count": 217,
   "outputs": [
    {
     "name": "stdout",
     "output_type": "stream",
     "text": [
      "Форма массива X_test: (15, 3)\n",
      "Форма массива y_trest: (15, 5)\n"
     ]
    }
   ],
   "source": [
    "print(\"Форма массива X_test: {}\".format(X_test.shape))\n",
    "print(\"Форма массива y_trest: {}\".format(y_test.shape))"
   ],
   "metadata": {
    "collapsed": false,
    "ExecuteTime": {
     "end_time": "2023-12-20T17:04:04.761078Z",
     "start_time": "2023-12-20T17:04:04.754979Z"
    }
   }
  },
  {
   "cell_type": "code",
   "execution_count": 218,
   "outputs": [
    {
     "name": "stdout",
     "output_type": "stream",
     "text": [
      "PM2.5    0\n",
      "PM10     1\n",
      "SO2      0\n",
      "dtype: int64\n"
     ]
    }
   ],
   "source": [
    "print(X_train.isnull().sum())"
   ],
   "metadata": {
    "collapsed": false,
    "ExecuteTime": {
     "end_time": "2023-12-20T17:04:05.310651Z",
     "start_time": "2023-12-20T17:04:05.299596Z"
    }
   }
  },
  {
   "cell_type": "code",
   "execution_count": 219,
   "outputs": [],
   "source": [
    "X_train = X_train.dropna()"
   ],
   "metadata": {
    "collapsed": false,
    "ExecuteTime": {
     "end_time": "2023-12-20T17:04:05.987696Z",
     "start_time": "2023-12-20T17:04:05.981356Z"
    }
   }
  },
  {
   "cell_type": "code",
   "execution_count": 220,
   "outputs": [
    {
     "name": "stdout",
     "output_type": "stream",
     "text": [
      "PM2.5    0\n",
      "PM10     0\n",
      "SO2      0\n",
      "dtype: int64\n"
     ]
    }
   ],
   "source": [
    "print(X_train.isnull().sum())"
   ],
   "metadata": {
    "collapsed": false,
    "ExecuteTime": {
     "end_time": "2023-12-20T17:04:06.387750Z",
     "start_time": "2023-12-20T17:04:06.375731Z"
    }
   }
  },
  {
   "cell_type": "code",
   "execution_count": 221,
   "outputs": [
    {
     "name": "stdout",
     "output_type": "stream",
     "text": [
      "X_train shape: (44, 3)\n",
      "y_train shape: (45, 5)\n"
     ]
    }
   ],
   "source": [
    "print(\"X_train shape:\", X_train.shape)\n",
    "print(\"y_train shape:\", y_train.shape)"
   ],
   "metadata": {
    "collapsed": false,
    "ExecuteTime": {
     "end_time": "2023-12-20T17:04:07.003977Z",
     "start_time": "2023-12-20T17:04:06.996996Z"
    }
   }
  },
  {
   "cell_type": "code",
   "execution_count": 222,
   "outputs": [
    {
     "name": "stdout",
     "output_type": "stream",
     "text": [
      "<class 'pandas.core.frame.DataFrame'>\n",
      "DatetimeIndex: 44 entries, 2022-09-30 to 2022-09-30\n",
      "Data columns (total 3 columns):\n",
      " #   Column  Non-Null Count  Dtype  \n",
      "---  ------  --------------  -----  \n",
      " 0   PM2.5   44 non-null     float64\n",
      " 1   PM10    44 non-null     float64\n",
      " 2   SO2     44 non-null     float64\n",
      "dtypes: float64(3)\n",
      "memory usage: 1.4 KB\n"
     ]
    }
   ],
   "source": [
    "X_train.info()"
   ],
   "metadata": {
    "collapsed": false,
    "ExecuteTime": {
     "end_time": "2023-12-20T17:04:07.807171Z",
     "start_time": "2023-12-20T17:04:07.766209Z"
    }
   }
  },
  {
   "cell_type": "code",
   "execution_count": 223,
   "outputs": [
    {
     "ename": "KeyboardInterrupt",
     "evalue": "",
     "output_type": "error",
     "traceback": [
      "\u001B[0;31m---------------------------------------------------------------------------\u001B[0m",
      "\u001B[0;31mKeyboardInterrupt\u001B[0m                         Traceback (most recent call last)",
      "Cell \u001B[0;32mIn[223], line 7\u001B[0m\n\u001B[1;32m      4\u001B[0m model \u001B[38;5;241m=\u001B[39m RandomForestRegressor(n_estimators\u001B[38;5;241m=\u001B[39m\u001B[38;5;241m100000\u001B[39m, random_state\u001B[38;5;241m=\u001B[39m\u001B[38;5;241m42\u001B[39m)\n\u001B[1;32m      6\u001B[0m \u001B[38;5;66;03m# Now, you can train your model with the one-hot encoded data\u001B[39;00m\n\u001B[0;32m----> 7\u001B[0m \u001B[43mmodel\u001B[49m\u001B[38;5;241;43m.\u001B[39;49m\u001B[43mfit\u001B[49m\u001B[43m(\u001B[49m\u001B[43mX_train\u001B[49m\u001B[43m,\u001B[49m\u001B[43m \u001B[49m\u001B[43my_train_encoded\u001B[49m\u001B[43m[\u001B[49m\u001B[43m:\u001B[49m\u001B[38;5;241;43m44\u001B[39;49m\u001B[43m]\u001B[49m\u001B[43m)\u001B[49m\n",
      "File \u001B[0;32m/Library/Python/3.9/site-packages/sklearn/base.py:1152\u001B[0m, in \u001B[0;36m_fit_context.<locals>.decorator.<locals>.wrapper\u001B[0;34m(estimator, *args, **kwargs)\u001B[0m\n\u001B[1;32m   1145\u001B[0m     estimator\u001B[38;5;241m.\u001B[39m_validate_params()\n\u001B[1;32m   1147\u001B[0m \u001B[38;5;28;01mwith\u001B[39;00m config_context(\n\u001B[1;32m   1148\u001B[0m     skip_parameter_validation\u001B[38;5;241m=\u001B[39m(\n\u001B[1;32m   1149\u001B[0m         prefer_skip_nested_validation \u001B[38;5;129;01mor\u001B[39;00m global_skip_validation\n\u001B[1;32m   1150\u001B[0m     )\n\u001B[1;32m   1151\u001B[0m ):\n\u001B[0;32m-> 1152\u001B[0m     \u001B[38;5;28;01mreturn\u001B[39;00m \u001B[43mfit_method\u001B[49m\u001B[43m(\u001B[49m\u001B[43mestimator\u001B[49m\u001B[43m,\u001B[49m\u001B[43m \u001B[49m\u001B[38;5;241;43m*\u001B[39;49m\u001B[43margs\u001B[49m\u001B[43m,\u001B[49m\u001B[43m \u001B[49m\u001B[38;5;241;43m*\u001B[39;49m\u001B[38;5;241;43m*\u001B[39;49m\u001B[43mkwargs\u001B[49m\u001B[43m)\u001B[49m\n",
      "File \u001B[0;32m/Library/Python/3.9/site-packages/sklearn/ensemble/_forest.py:445\u001B[0m, in \u001B[0;36mBaseForest.fit\u001B[0;34m(self, X, y, sample_weight)\u001B[0m\n\u001B[1;32m    440\u001B[0m \u001B[38;5;28;01mif\u001B[39;00m \u001B[38;5;28mself\u001B[39m\u001B[38;5;241m.\u001B[39mwarm_start \u001B[38;5;129;01mand\u001B[39;00m \u001B[38;5;28mlen\u001B[39m(\u001B[38;5;28mself\u001B[39m\u001B[38;5;241m.\u001B[39mestimators_) \u001B[38;5;241m>\u001B[39m \u001B[38;5;241m0\u001B[39m:\n\u001B[1;32m    441\u001B[0m     \u001B[38;5;66;03m# We draw from the random state to get the random state we\u001B[39;00m\n\u001B[1;32m    442\u001B[0m     \u001B[38;5;66;03m# would have got if we hadn't used a warm_start.\u001B[39;00m\n\u001B[1;32m    443\u001B[0m     random_state\u001B[38;5;241m.\u001B[39mrandint(MAX_INT, size\u001B[38;5;241m=\u001B[39m\u001B[38;5;28mlen\u001B[39m(\u001B[38;5;28mself\u001B[39m\u001B[38;5;241m.\u001B[39mestimators_))\n\u001B[0;32m--> 445\u001B[0m trees \u001B[38;5;241m=\u001B[39m [\n\u001B[1;32m    446\u001B[0m     \u001B[38;5;28mself\u001B[39m\u001B[38;5;241m.\u001B[39m_make_estimator(append\u001B[38;5;241m=\u001B[39m\u001B[38;5;28;01mFalse\u001B[39;00m, random_state\u001B[38;5;241m=\u001B[39mrandom_state)\n\u001B[1;32m    447\u001B[0m     \u001B[38;5;28;01mfor\u001B[39;00m i \u001B[38;5;129;01min\u001B[39;00m \u001B[38;5;28mrange\u001B[39m(n_more_estimators)\n\u001B[1;32m    448\u001B[0m ]\n\u001B[1;32m    450\u001B[0m \u001B[38;5;66;03m# Parallel loop: we prefer the threading backend as the Cython code\u001B[39;00m\n\u001B[1;32m    451\u001B[0m \u001B[38;5;66;03m# for fitting the trees is internally releasing the Python GIL\u001B[39;00m\n\u001B[1;32m    452\u001B[0m \u001B[38;5;66;03m# making threading more efficient than multiprocessing in\u001B[39;00m\n\u001B[1;32m    453\u001B[0m \u001B[38;5;66;03m# that case. However, for joblib 0.12+ we respect any\u001B[39;00m\n\u001B[1;32m    454\u001B[0m \u001B[38;5;66;03m# parallel_backend contexts set at a higher level,\u001B[39;00m\n\u001B[1;32m    455\u001B[0m \u001B[38;5;66;03m# since correctness does not rely on using threads.\u001B[39;00m\n\u001B[1;32m    456\u001B[0m trees \u001B[38;5;241m=\u001B[39m Parallel(\n\u001B[1;32m    457\u001B[0m     n_jobs\u001B[38;5;241m=\u001B[39m\u001B[38;5;28mself\u001B[39m\u001B[38;5;241m.\u001B[39mn_jobs,\n\u001B[1;32m    458\u001B[0m     verbose\u001B[38;5;241m=\u001B[39m\u001B[38;5;28mself\u001B[39m\u001B[38;5;241m.\u001B[39mverbose,\n\u001B[0;32m   (...)\u001B[0m\n\u001B[1;32m    473\u001B[0m     \u001B[38;5;28;01mfor\u001B[39;00m i, t \u001B[38;5;129;01min\u001B[39;00m \u001B[38;5;28menumerate\u001B[39m(trees)\n\u001B[1;32m    474\u001B[0m )\n",
      "File \u001B[0;32m/Library/Python/3.9/site-packages/sklearn/ensemble/_forest.py:446\u001B[0m, in \u001B[0;36m<listcomp>\u001B[0;34m(.0)\u001B[0m\n\u001B[1;32m    440\u001B[0m \u001B[38;5;28;01mif\u001B[39;00m \u001B[38;5;28mself\u001B[39m\u001B[38;5;241m.\u001B[39mwarm_start \u001B[38;5;129;01mand\u001B[39;00m \u001B[38;5;28mlen\u001B[39m(\u001B[38;5;28mself\u001B[39m\u001B[38;5;241m.\u001B[39mestimators_) \u001B[38;5;241m>\u001B[39m \u001B[38;5;241m0\u001B[39m:\n\u001B[1;32m    441\u001B[0m     \u001B[38;5;66;03m# We draw from the random state to get the random state we\u001B[39;00m\n\u001B[1;32m    442\u001B[0m     \u001B[38;5;66;03m# would have got if we hadn't used a warm_start.\u001B[39;00m\n\u001B[1;32m    443\u001B[0m     random_state\u001B[38;5;241m.\u001B[39mrandint(MAX_INT, size\u001B[38;5;241m=\u001B[39m\u001B[38;5;28mlen\u001B[39m(\u001B[38;5;28mself\u001B[39m\u001B[38;5;241m.\u001B[39mestimators_))\n\u001B[1;32m    445\u001B[0m trees \u001B[38;5;241m=\u001B[39m [\n\u001B[0;32m--> 446\u001B[0m     \u001B[38;5;28;43mself\u001B[39;49m\u001B[38;5;241;43m.\u001B[39;49m\u001B[43m_make_estimator\u001B[49m\u001B[43m(\u001B[49m\u001B[43mappend\u001B[49m\u001B[38;5;241;43m=\u001B[39;49m\u001B[38;5;28;43;01mFalse\u001B[39;49;00m\u001B[43m,\u001B[49m\u001B[43m \u001B[49m\u001B[43mrandom_state\u001B[49m\u001B[38;5;241;43m=\u001B[39;49m\u001B[43mrandom_state\u001B[49m\u001B[43m)\u001B[49m\n\u001B[1;32m    447\u001B[0m     \u001B[38;5;28;01mfor\u001B[39;00m i \u001B[38;5;129;01min\u001B[39;00m \u001B[38;5;28mrange\u001B[39m(n_more_estimators)\n\u001B[1;32m    448\u001B[0m ]\n\u001B[1;32m    450\u001B[0m \u001B[38;5;66;03m# Parallel loop: we prefer the threading backend as the Cython code\u001B[39;00m\n\u001B[1;32m    451\u001B[0m \u001B[38;5;66;03m# for fitting the trees is internally releasing the Python GIL\u001B[39;00m\n\u001B[1;32m    452\u001B[0m \u001B[38;5;66;03m# making threading more efficient than multiprocessing in\u001B[39;00m\n\u001B[1;32m    453\u001B[0m \u001B[38;5;66;03m# that case. However, for joblib 0.12+ we respect any\u001B[39;00m\n\u001B[1;32m    454\u001B[0m \u001B[38;5;66;03m# parallel_backend contexts set at a higher level,\u001B[39;00m\n\u001B[1;32m    455\u001B[0m \u001B[38;5;66;03m# since correctness does not rely on using threads.\u001B[39;00m\n\u001B[1;32m    456\u001B[0m trees \u001B[38;5;241m=\u001B[39m Parallel(\n\u001B[1;32m    457\u001B[0m     n_jobs\u001B[38;5;241m=\u001B[39m\u001B[38;5;28mself\u001B[39m\u001B[38;5;241m.\u001B[39mn_jobs,\n\u001B[1;32m    458\u001B[0m     verbose\u001B[38;5;241m=\u001B[39m\u001B[38;5;28mself\u001B[39m\u001B[38;5;241m.\u001B[39mverbose,\n\u001B[0;32m   (...)\u001B[0m\n\u001B[1;32m    473\u001B[0m     \u001B[38;5;28;01mfor\u001B[39;00m i, t \u001B[38;5;129;01min\u001B[39;00m \u001B[38;5;28menumerate\u001B[39m(trees)\n\u001B[1;32m    474\u001B[0m )\n",
      "File \u001B[0;32m/Library/Python/3.9/site-packages/sklearn/ensemble/_base.py:187\u001B[0m, in \u001B[0;36mBaseEnsemble._make_estimator\u001B[0;34m(self, append, random_state)\u001B[0m\n\u001B[1;32m    181\u001B[0m \u001B[38;5;28;01mdef\u001B[39;00m \u001B[38;5;21m_make_estimator\u001B[39m(\u001B[38;5;28mself\u001B[39m, append\u001B[38;5;241m=\u001B[39m\u001B[38;5;28;01mTrue\u001B[39;00m, random_state\u001B[38;5;241m=\u001B[39m\u001B[38;5;28;01mNone\u001B[39;00m):\n\u001B[1;32m    182\u001B[0m \u001B[38;5;250m    \u001B[39m\u001B[38;5;124;03m\"\"\"Make and configure a copy of the `estimator_` attribute.\u001B[39;00m\n\u001B[1;32m    183\u001B[0m \n\u001B[1;32m    184\u001B[0m \u001B[38;5;124;03m    Warning: This method should be used to properly instantiate new\u001B[39;00m\n\u001B[1;32m    185\u001B[0m \u001B[38;5;124;03m    sub-estimators.\u001B[39;00m\n\u001B[1;32m    186\u001B[0m \u001B[38;5;124;03m    \"\"\"\u001B[39;00m\n\u001B[0;32m--> 187\u001B[0m     estimator \u001B[38;5;241m=\u001B[39m \u001B[43mclone\u001B[49m\u001B[43m(\u001B[49m\u001B[38;5;28;43mself\u001B[39;49m\u001B[38;5;241;43m.\u001B[39;49m\u001B[43mestimator_\u001B[49m\u001B[43m)\u001B[49m\n\u001B[1;32m    188\u001B[0m     estimator\u001B[38;5;241m.\u001B[39mset_params(\u001B[38;5;241m*\u001B[39m\u001B[38;5;241m*\u001B[39m{p: \u001B[38;5;28mgetattr\u001B[39m(\u001B[38;5;28mself\u001B[39m, p) \u001B[38;5;28;01mfor\u001B[39;00m p \u001B[38;5;129;01min\u001B[39;00m \u001B[38;5;28mself\u001B[39m\u001B[38;5;241m.\u001B[39mestimator_params})\n\u001B[1;32m    190\u001B[0m     \u001B[38;5;28;01mif\u001B[39;00m random_state \u001B[38;5;129;01mis\u001B[39;00m \u001B[38;5;129;01mnot\u001B[39;00m \u001B[38;5;28;01mNone\u001B[39;00m:\n",
      "File \u001B[0;32m/Library/Python/3.9/site-packages/sklearn/base.py:75\u001B[0m, in \u001B[0;36mclone\u001B[0;34m(estimator, safe)\u001B[0m\n\u001B[1;32m     41\u001B[0m \u001B[38;5;250m\u001B[39m\u001B[38;5;124;03m\"\"\"Construct a new unfitted estimator with the same parameters.\u001B[39;00m\n\u001B[1;32m     42\u001B[0m \n\u001B[1;32m     43\u001B[0m \u001B[38;5;124;03mClone does a deep copy of the model in an estimator\u001B[39;00m\n\u001B[0;32m   (...)\u001B[0m\n\u001B[1;32m     72\u001B[0m \u001B[38;5;124;03mfound in :ref:`randomness`.\u001B[39;00m\n\u001B[1;32m     73\u001B[0m \u001B[38;5;124;03m\"\"\"\u001B[39;00m\n\u001B[1;32m     74\u001B[0m \u001B[38;5;28;01mif\u001B[39;00m \u001B[38;5;28mhasattr\u001B[39m(estimator, \u001B[38;5;124m\"\u001B[39m\u001B[38;5;124m__sklearn_clone__\u001B[39m\u001B[38;5;124m\"\u001B[39m) \u001B[38;5;129;01mand\u001B[39;00m \u001B[38;5;129;01mnot\u001B[39;00m inspect\u001B[38;5;241m.\u001B[39misclass(estimator):\n\u001B[0;32m---> 75\u001B[0m     \u001B[38;5;28;01mreturn\u001B[39;00m \u001B[43mestimator\u001B[49m\u001B[38;5;241;43m.\u001B[39;49m\u001B[43m__sklearn_clone__\u001B[49m\u001B[43m(\u001B[49m\u001B[43m)\u001B[49m\n\u001B[1;32m     76\u001B[0m \u001B[38;5;28;01mreturn\u001B[39;00m _clone_parametrized(estimator, safe\u001B[38;5;241m=\u001B[39msafe)\n",
      "File \u001B[0;32m/Library/Python/3.9/site-packages/sklearn/base.py:268\u001B[0m, in \u001B[0;36mBaseEstimator.__sklearn_clone__\u001B[0;34m(self)\u001B[0m\n\u001B[1;32m    267\u001B[0m \u001B[38;5;28;01mdef\u001B[39;00m \u001B[38;5;21m__sklearn_clone__\u001B[39m(\u001B[38;5;28mself\u001B[39m):\n\u001B[0;32m--> 268\u001B[0m     \u001B[38;5;28;01mreturn\u001B[39;00m \u001B[43m_clone_parametrized\u001B[49m\u001B[43m(\u001B[49m\u001B[38;5;28;43mself\u001B[39;49m\u001B[43m)\u001B[49m\n",
      "File \u001B[0;32m/Library/Python/3.9/site-packages/sklearn/base.py:106\u001B[0m, in \u001B[0;36m_clone_parametrized\u001B[0;34m(estimator, safe)\u001B[0m\n\u001B[1;32m     98\u001B[0m             \u001B[38;5;28;01mraise\u001B[39;00m \u001B[38;5;167;01mTypeError\u001B[39;00m(\n\u001B[1;32m     99\u001B[0m                 \u001B[38;5;124m\"\u001B[39m\u001B[38;5;124mCannot clone object \u001B[39m\u001B[38;5;124m'\u001B[39m\u001B[38;5;132;01m%s\u001B[39;00m\u001B[38;5;124m'\u001B[39m\u001B[38;5;124m (type \u001B[39m\u001B[38;5;132;01m%s\u001B[39;00m\u001B[38;5;124m): \u001B[39m\u001B[38;5;124m\"\u001B[39m\n\u001B[1;32m    100\u001B[0m                 \u001B[38;5;124m\"\u001B[39m\u001B[38;5;124mit does not seem to be a scikit-learn \u001B[39m\u001B[38;5;124m\"\u001B[39m\n\u001B[1;32m    101\u001B[0m                 \u001B[38;5;124m\"\u001B[39m\u001B[38;5;124mestimator as it does not implement a \u001B[39m\u001B[38;5;124m\"\u001B[39m\n\u001B[1;32m    102\u001B[0m                 \u001B[38;5;124m\"\u001B[39m\u001B[38;5;124m'\u001B[39m\u001B[38;5;124mget_params\u001B[39m\u001B[38;5;124m'\u001B[39m\u001B[38;5;124m method.\u001B[39m\u001B[38;5;124m\"\u001B[39m \u001B[38;5;241m%\u001B[39m (\u001B[38;5;28mrepr\u001B[39m(estimator), \u001B[38;5;28mtype\u001B[39m(estimator))\n\u001B[1;32m    103\u001B[0m             )\n\u001B[1;32m    105\u001B[0m klass \u001B[38;5;241m=\u001B[39m estimator\u001B[38;5;241m.\u001B[39m\u001B[38;5;18m__class__\u001B[39m\n\u001B[0;32m--> 106\u001B[0m new_object_params \u001B[38;5;241m=\u001B[39m \u001B[43mestimator\u001B[49m\u001B[38;5;241;43m.\u001B[39;49m\u001B[43mget_params\u001B[49m\u001B[43m(\u001B[49m\u001B[43mdeep\u001B[49m\u001B[38;5;241;43m=\u001B[39;49m\u001B[38;5;28;43;01mFalse\u001B[39;49;00m\u001B[43m)\u001B[49m\n\u001B[1;32m    107\u001B[0m \u001B[38;5;28;01mfor\u001B[39;00m name, param \u001B[38;5;129;01min\u001B[39;00m new_object_params\u001B[38;5;241m.\u001B[39mitems():\n\u001B[1;32m    108\u001B[0m     new_object_params[name] \u001B[38;5;241m=\u001B[39m clone(param, safe\u001B[38;5;241m=\u001B[39m\u001B[38;5;28;01mFalse\u001B[39;00m)\n",
      "File \u001B[0;32m/Library/Python/3.9/site-packages/sklearn/base.py:194\u001B[0m, in \u001B[0;36mBaseEstimator.get_params\u001B[0;34m(self, deep)\u001B[0m\n\u001B[1;32m    179\u001B[0m \u001B[38;5;250m\u001B[39m\u001B[38;5;124;03m\"\"\"\u001B[39;00m\n\u001B[1;32m    180\u001B[0m \u001B[38;5;124;03mGet parameters for this estimator.\u001B[39;00m\n\u001B[1;32m    181\u001B[0m \n\u001B[0;32m   (...)\u001B[0m\n\u001B[1;32m    191\u001B[0m \u001B[38;5;124;03m    Parameter names mapped to their values.\u001B[39;00m\n\u001B[1;32m    192\u001B[0m \u001B[38;5;124;03m\"\"\"\u001B[39;00m\n\u001B[1;32m    193\u001B[0m out \u001B[38;5;241m=\u001B[39m \u001B[38;5;28mdict\u001B[39m()\n\u001B[0;32m--> 194\u001B[0m \u001B[38;5;28;01mfor\u001B[39;00m key \u001B[38;5;129;01min\u001B[39;00m \u001B[38;5;28;43mself\u001B[39;49m\u001B[38;5;241;43m.\u001B[39;49m\u001B[43m_get_param_names\u001B[49m\u001B[43m(\u001B[49m\u001B[43m)\u001B[49m:\n\u001B[1;32m    195\u001B[0m     value \u001B[38;5;241m=\u001B[39m \u001B[38;5;28mgetattr\u001B[39m(\u001B[38;5;28mself\u001B[39m, key)\n\u001B[1;32m    196\u001B[0m     \u001B[38;5;28;01mif\u001B[39;00m deep \u001B[38;5;129;01mand\u001B[39;00m \u001B[38;5;28mhasattr\u001B[39m(value, \u001B[38;5;124m\"\u001B[39m\u001B[38;5;124mget_params\u001B[39m\u001B[38;5;124m\"\u001B[39m) \u001B[38;5;129;01mand\u001B[39;00m \u001B[38;5;129;01mnot\u001B[39;00m \u001B[38;5;28misinstance\u001B[39m(value, \u001B[38;5;28mtype\u001B[39m):\n",
      "File \u001B[0;32m/Library/Python/3.9/site-packages/sklearn/base.py:161\u001B[0m, in \u001B[0;36mBaseEstimator._get_param_names\u001B[0;34m(cls)\u001B[0m\n\u001B[1;32m    159\u001B[0m init_signature \u001B[38;5;241m=\u001B[39m inspect\u001B[38;5;241m.\u001B[39msignature(init)\n\u001B[1;32m    160\u001B[0m \u001B[38;5;66;03m# Consider the constructor parameters excluding 'self'\u001B[39;00m\n\u001B[0;32m--> 161\u001B[0m parameters \u001B[38;5;241m=\u001B[39m [\n\u001B[1;32m    162\u001B[0m     p\n\u001B[1;32m    163\u001B[0m     \u001B[38;5;28;01mfor\u001B[39;00m p \u001B[38;5;129;01min\u001B[39;00m init_signature\u001B[38;5;241m.\u001B[39mparameters\u001B[38;5;241m.\u001B[39mvalues()\n\u001B[1;32m    164\u001B[0m     \u001B[38;5;28;01mif\u001B[39;00m p\u001B[38;5;241m.\u001B[39mname \u001B[38;5;241m!=\u001B[39m \u001B[38;5;124m\"\u001B[39m\u001B[38;5;124mself\u001B[39m\u001B[38;5;124m\"\u001B[39m \u001B[38;5;129;01mand\u001B[39;00m p\u001B[38;5;241m.\u001B[39mkind \u001B[38;5;241m!=\u001B[39m p\u001B[38;5;241m.\u001B[39mVAR_KEYWORD\n\u001B[1;32m    165\u001B[0m ]\n\u001B[1;32m    166\u001B[0m \u001B[38;5;28;01mfor\u001B[39;00m p \u001B[38;5;129;01min\u001B[39;00m parameters:\n\u001B[1;32m    167\u001B[0m     \u001B[38;5;28;01mif\u001B[39;00m p\u001B[38;5;241m.\u001B[39mkind \u001B[38;5;241m==\u001B[39m p\u001B[38;5;241m.\u001B[39mVAR_POSITIONAL:\n",
      "File \u001B[0;32m/Library/Python/3.9/site-packages/sklearn/base.py:164\u001B[0m, in \u001B[0;36m<listcomp>\u001B[0;34m(.0)\u001B[0m\n\u001B[1;32m    159\u001B[0m init_signature \u001B[38;5;241m=\u001B[39m inspect\u001B[38;5;241m.\u001B[39msignature(init)\n\u001B[1;32m    160\u001B[0m \u001B[38;5;66;03m# Consider the constructor parameters excluding 'self'\u001B[39;00m\n\u001B[1;32m    161\u001B[0m parameters \u001B[38;5;241m=\u001B[39m [\n\u001B[1;32m    162\u001B[0m     p\n\u001B[1;32m    163\u001B[0m     \u001B[38;5;28;01mfor\u001B[39;00m p \u001B[38;5;129;01min\u001B[39;00m init_signature\u001B[38;5;241m.\u001B[39mparameters\u001B[38;5;241m.\u001B[39mvalues()\n\u001B[0;32m--> 164\u001B[0m     \u001B[38;5;28;01mif\u001B[39;00m \u001B[43mp\u001B[49m\u001B[38;5;241;43m.\u001B[39;49m\u001B[43mname\u001B[49m \u001B[38;5;241m!=\u001B[39m \u001B[38;5;124m\"\u001B[39m\u001B[38;5;124mself\u001B[39m\u001B[38;5;124m\"\u001B[39m \u001B[38;5;129;01mand\u001B[39;00m p\u001B[38;5;241m.\u001B[39mkind \u001B[38;5;241m!=\u001B[39m p\u001B[38;5;241m.\u001B[39mVAR_KEYWORD\n\u001B[1;32m    165\u001B[0m ]\n\u001B[1;32m    166\u001B[0m \u001B[38;5;28;01mfor\u001B[39;00m p \u001B[38;5;129;01min\u001B[39;00m parameters:\n\u001B[1;32m    167\u001B[0m     \u001B[38;5;28;01mif\u001B[39;00m p\u001B[38;5;241m.\u001B[39mkind \u001B[38;5;241m==\u001B[39m p\u001B[38;5;241m.\u001B[39mVAR_POSITIONAL:\n",
      "File \u001B[0;32m/Library/Developer/CommandLineTools/Library/Frameworks/Python3.framework/Versions/3.9/lib/python3.9/inspect.py:2565\u001B[0m, in \u001B[0;36mParameter.name\u001B[0;34m(self)\u001B[0m\n\u001B[1;32m   2562\u001B[0m     \u001B[38;5;28mself\u001B[39m\u001B[38;5;241m.\u001B[39m_default \u001B[38;5;241m=\u001B[39m state[\u001B[38;5;124m'\u001B[39m\u001B[38;5;124m_default\u001B[39m\u001B[38;5;124m'\u001B[39m]\n\u001B[1;32m   2563\u001B[0m     \u001B[38;5;28mself\u001B[39m\u001B[38;5;241m.\u001B[39m_annotation \u001B[38;5;241m=\u001B[39m state[\u001B[38;5;124m'\u001B[39m\u001B[38;5;124m_annotation\u001B[39m\u001B[38;5;124m'\u001B[39m]\n\u001B[0;32m-> 2565\u001B[0m \u001B[38;5;129m@property\u001B[39m\n\u001B[1;32m   2566\u001B[0m \u001B[38;5;28;01mdef\u001B[39;00m \u001B[38;5;21mname\u001B[39m(\u001B[38;5;28mself\u001B[39m):\n\u001B[1;32m   2567\u001B[0m     \u001B[38;5;28;01mreturn\u001B[39;00m \u001B[38;5;28mself\u001B[39m\u001B[38;5;241m.\u001B[39m_name\n\u001B[1;32m   2569\u001B[0m \u001B[38;5;129m@property\u001B[39m\n\u001B[1;32m   2570\u001B[0m \u001B[38;5;28;01mdef\u001B[39;00m \u001B[38;5;21mdefault\u001B[39m(\u001B[38;5;28mself\u001B[39m):\n",
      "\u001B[0;31mKeyboardInterrupt\u001B[0m: "
     ]
    }
   ],
   "source": [
    "from sklearn.ensemble import RandomForestRegressor\n",
    "\n",
    "y_train_encoded = pd.get_dummies(y_train, columns=categorical_columns)\n",
    "model = RandomForestRegressor(n_estimators=100000, random_state=42)\n",
    "\n",
    "# Now, you can train your model with the one-hot encoded data\n",
    "model.fit(X_train, y_train_encoded[:44])\n"
   ],
   "metadata": {
    "collapsed": false,
    "ExecuteTime": {
     "end_time": "2023-12-20T17:04:13.590533Z",
     "start_time": "2023-12-20T17:04:08.379424Z"
    }
   }
  },
  {
   "cell_type": "code",
   "execution_count": null,
   "outputs": [],
   "source": [
    "model.score(X_train, y_train_encoded[:44])"
   ],
   "metadata": {
    "collapsed": false
   }
  },
  {
   "cell_type": "code",
   "execution_count": null,
   "outputs": [],
   "source": [
    "y_test.info()"
   ],
   "metadata": {
    "collapsed": false
   }
  },
  {
   "cell_type": "code",
   "execution_count": null,
   "outputs": [],
   "source": [
    "y_test_encoded = pd.get_dummies(y_test, columns=categorical_columns)\n",
    "y_test_encoded.info()"
   ],
   "metadata": {
    "collapsed": false
   }
  },
  {
   "cell_type": "code",
   "execution_count": null,
   "outputs": [],
   "source": [
    "X_test.info()"
   ],
   "metadata": {
    "collapsed": false
   }
  },
  {
   "cell_type": "code",
   "execution_count": null,
   "outputs": [],
   "source": [
    "from sklearn.metrics import mean_squared_error\n",
    "predictions = model.predict(X_test)\n",
    "predictions"
   ],
   "metadata": {
    "collapsed": false
   }
  },
  {
   "cell_type": "code",
   "execution_count": null,
   "outputs": [],
   "source": [],
   "metadata": {
    "collapsed": false
   }
  },
  {
   "cell_type": "code",
   "execution_count": null,
   "outputs": [],
   "source": [],
   "metadata": {
    "collapsed": false
   }
  }
 ],
 "metadata": {
  "kernelspec": {
   "display_name": "venv",
   "language": "python",
   "name": "python3"
  },
  "language_info": {
   "codemirror_mode": {
    "name": "ipython",
    "version": 3
   },
   "file_extension": ".py",
   "mimetype": "text/x-python",
   "name": "python",
   "nbconvert_exporter": "python",
   "pygments_lexer": "ipython3",
   "version": "3.11.4"
  }
 },
 "nbformat": 4,
 "nbformat_minor": 2
}
